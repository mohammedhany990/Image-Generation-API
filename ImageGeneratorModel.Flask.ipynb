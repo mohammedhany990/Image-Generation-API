{
 "cells": [
  {
   "cell_type": "code",
   "execution_count": 1,
   "metadata": {},
   "outputs": [
    {
     "name": "stderr",
     "output_type": "stream",
     "text": [
      "e:\\ProgramsInstallation\\anaconda3\\envs\\tf_gpu\\lib\\site-packages\\tqdm\\auto.py:21: TqdmWarning: IProgress not found. Please update jupyter and ipywidgets. See https://ipywidgets.readthedocs.io/en/stable/user_install.html\n",
      "  from .autonotebook import tqdm as notebook_tqdm\n"
     ]
    }
   ],
   "source": [
    "# app.py\n",
    "from flask import Flask, request, render_template, flash, send_file,jsonify, send_from_directory\n",
    "import numpy as np\n",
    "from PIL import Image\n",
    "import torch\n",
    "from diffusers import StableDiffusionPipeline\n",
    "import secrets\n"
   ]
  },
  {
   "cell_type": "code",
   "execution_count": 2,
   "metadata": {},
   "outputs": [
    {
     "name": "stdout",
     "output_type": "stream",
     "text": [
      "True\n",
      "NVIDIA GeForce RTX 2070 with Max-Q Design\n"
     ]
    }
   ],
   "source": [
    "print(torch.cuda.is_available())\n",
    "print(torch.cuda.get_device_name(0) if torch.cuda.is_available() else \"No GPU detected\")"
   ]
  },
  {
   "cell_type": "code",
   "execution_count": 3,
   "metadata": {},
   "outputs": [
    {
     "name": "stderr",
     "output_type": "stream",
     "text": [
      "Loading pipeline components...: 100%|██████████| 5/5 [00:03<00:00,  1.45it/s]\n"
     ]
    }
   ],
   "source": [
    "model = \"dreamlike-art/dreamlike-diffusion-1.0\"\n",
    "\n",
    "pipe = StableDiffusionPipeline.from_pretrained(model, torch_dtype=torch.float16, use_safetensors=True)\n",
    "pipe = pipe.to(\"cuda\")"
   ]
  },
  {
   "cell_type": "code",
   "execution_count": 4,
   "metadata": {},
   "outputs": [],
   "source": [
    "#torch.save(pipe, \"E:/CodePractice/Flask/model.h5\")"
   ]
  },
  {
   "cell_type": "code",
   "execution_count": 5,
   "metadata": {},
   "outputs": [
    {
     "name": "stdout",
     "output_type": "stream",
     "text": [
      "Error loading model: [Errno 2] No such file or directory: 'E:/CodePractice/Flask/Final API/model.h5'\n"
     ]
    }
   ],
   "source": [
    "try:\n",
    "    # Load the Keras model\n",
    "    model = torch.load(\"E:/CodePractice/Flask/Final API/model.h5\")\n",
    "    print(\"Model loaded successfully.\")\n",
    "except Exception as e:\n",
    "    print(\"Error loading model:\", e)\n"
   ]
  },
  {
   "cell_type": "code",
   "execution_count": 6,
   "metadata": {},
   "outputs": [
    {
     "data": {
      "text/plain": [
       "'\\nfrom flask import Flask, request, send_file\\nfrom PIL import Image, ImageDraw, ImageFont\\nimport io\\n\\napp = Flask(__name__)\\n\\n@app.route(\\'/generate_image\\', methods=[\\'POST\\'])\\ndef generate_image():\\n    text = request.json.get(\\'text\\')\\n    if not text:\\n        return \"Text is required\", 400\\n    \\n    # Create an image with PIL\\n    image = Image.new(\\'RGB\\', (200, 100), color = (73, 109, 137))\\n    d = ImageDraw.Draw(image)\\n    fnt = ImageFont.load_default()\\n    d.text((10,10), text, font=fnt, fill=(255, 255, 0))\\n    \\n    # Save the image to a bytes buffer\\n    img_io = io.BytesIO()\\n    image.save(img_io, \\'PNG\\')\\n    img_io.seek(0)\\n\\n    return send_file(img_io, mimetype=\\'image/png\\')\\n\\napp.run()\\n'"
      ]
     },
     "execution_count": 6,
     "metadata": {},
     "output_type": "execute_result"
    }
   ],
   "source": []
  },
  {
   "cell_type": "code",
   "execution_count": 7,
   "metadata": {},
   "outputs": [
    {
     "name": "stdout",
     "output_type": "stream",
     "text": [
      " * Serving Flask app '__main__'\n",
      " * Debug mode: off\n"
     ]
    },
    {
     "name": "stderr",
     "output_type": "stream",
     "text": [
      "WARNING: This is a development server. Do not use it in a production deployment. Use a production WSGI server instead.\n",
      " * Running on http://127.0.0.1:5000\n",
      "Press CTRL+C to quit\n",
      "100%|██████████| 50/50 [00:37<00:00,  1.34it/s]\n",
      "127.0.0.1 - - [15/Jul/2024 21:18:15] \"POST /generate HTTP/1.1\" 200 -\n",
      "127.0.0.1 - - [15/Jul/2024 21:18:16] \"GET /static/generated_1ad218fdf7cf996b.png HTTP/1.1\" 200 -\n",
      "127.0.0.1 - - [15/Jul/2024 21:18:39] \"POST /static/generated_1ad218fdf7cf996b.png HTTP/1.1\" 405 -\n",
      "127.0.0.1 - - [15/Jul/2024 21:18:47] \"GET /static/generated_1ad218fdf7cf996b.png HTTP/1.1\" 200 -\n",
      "127.0.0.1 - - [15/Jul/2024 21:18:49] \"GET /favicon.ico HTTP/1.1\" 404 -\n"
     ]
    }
   ],
   "source": [
    "\n",
    "app = Flask(__name__)\n",
    "\n",
    "def generate_image(prompt):\n",
    "    image = np.array(pipe(prompt=prompt).images[0])\n",
    "    return image\n",
    "\n",
    "@app.route('/generate', methods=['POST'])\n",
    "def generate():\n",
    "    text = request.json['text']\n",
    "    image = generate_image(text)\n",
    "\n",
    "    # Convert the NumPy array to a PIL Image\n",
    "    pil_image = Image.fromarray(image)\n",
    "\n",
    "    # Save the PIL Image as a temporary file\n",
    "    random_string = secrets.token_hex(8)\n",
    "\n",
    "    filename = f'generated_{random_string}.png'\n",
    "    pil_image.save(filename)\n",
    "\n",
    "    # Generate the URL for the image\n",
    "    url = request.host_url + 'static/' + filename\n",
    "    \n",
    "    # Return the URL as a JSON response\n",
    "    return jsonify({'image_url': url})\n",
    "\n",
    "@app.route('/static/<filename>')\n",
    "def serve_image(filename):\n",
    "    return send_from_directory('.', filename)\n",
    "\n",
    "app.run(port=5000)\n"
   ]
  },
  {
   "cell_type": "code",
   "execution_count": null,
   "metadata": {},
   "outputs": [],
   "source": []
  }
 ],
 "metadata": {
  "kernelspec": {
   "display_name": "Python 3",
   "language": "python",
   "name": "python3"
  },
  "language_info": {
   "codemirror_mode": {
    "name": "ipython",
    "version": 3
   },
   "file_extension": ".py",
   "mimetype": "text/x-python",
   "name": "python",
   "nbconvert_exporter": "python",
   "pygments_lexer": "ipython3",
   "version": "3.9.19"
  }
 },
 "nbformat": 4,
 "nbformat_minor": 2
}
